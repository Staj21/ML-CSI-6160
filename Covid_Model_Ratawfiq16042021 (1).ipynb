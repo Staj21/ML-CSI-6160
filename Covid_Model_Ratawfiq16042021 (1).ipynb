{
 "cells": [
  {
   "cell_type": "code",
   "execution_count": 1,
   "metadata": {
    "id": "wAPrc_5ngYif"
   },
   "outputs": [],
   "source": [
    "%run InitialDataCleanup_Ratawfiq16042021.ipynb\n",
    "IPython.display.clear_output()"
   ]
  },
  {
   "cell_type": "code",
   "execution_count": 2,
   "metadata": {
    "colab": {
     "base_uri": "https://localhost:8080/",
     "height": 326
    },
    "id": "0xRVuCOTgYi0",
    "outputId": "e9b114d8-5c0b-482e-8900-e81947e9be0a"
   },
   "outputs": [
    {
     "name": "stdout",
     "output_type": "stream",
     "text": [
      "(327, 34)\n"
     ]
    },
    {
     "data": {
      "text/html": [
       "<div>\n",
       "<style scoped>\n",
       "    .dataframe tbody tr th:only-of-type {\n",
       "        vertical-align: middle;\n",
       "    }\n",
       "\n",
       "    .dataframe tbody tr th {\n",
       "        vertical-align: top;\n",
       "    }\n",
       "\n",
       "    .dataframe thead th {\n",
       "        text-align: right;\n",
       "    }\n",
       "</style>\n",
       "<table border=\"1\" class=\"dataframe\">\n",
       "  <thead>\n",
       "    <tr style=\"text-align: right;\">\n",
       "      <th></th>\n",
       "      <th>initclaims_count_regular</th>\n",
       "      <th>contclaims_count_regular</th>\n",
       "      <th>initclaims_count_combined</th>\n",
       "      <th>contclaims_count_combined</th>\n",
       "      <th>contclaims_count_pua</th>\n",
       "      <th>bg_posts_ss60</th>\n",
       "      <th>bg_posts_ss70</th>\n",
       "      <th>bg_posts_ss30</th>\n",
       "      <th>bg_posts_ss55</th>\n",
       "      <th>bg_posts_ss65</th>\n",
       "      <th>...</th>\n",
       "      <th>spend_acf</th>\n",
       "      <th>spend_hcs</th>\n",
       "      <th>spend_aer</th>\n",
       "      <th>spend_apg</th>\n",
       "      <th>spend_grf</th>\n",
       "      <th>gps_retail_and_recreation</th>\n",
       "      <th>gps_grocery_and_pharmacy</th>\n",
       "      <th>gps_transit_stations</th>\n",
       "      <th>gps_workplaces</th>\n",
       "      <th>gps_away_from_home</th>\n",
       "    </tr>\n",
       "  </thead>\n",
       "  <tbody>\n",
       "    <tr>\n",
       "      <th>2021-01-23</th>\n",
       "      <td>18446.000000</td>\n",
       "      <td>188217.000000</td>\n",
       "      <td>18505.000000</td>\n",
       "      <td>678817.000000</td>\n",
       "      <td>252249.000000</td>\n",
       "      <td>-0.280286</td>\n",
       "      <td>-0.324857</td>\n",
       "      <td>-0.115014</td>\n",
       "      <td>-0.166157</td>\n",
       "      <td>-0.1788</td>\n",
       "      <td>...</td>\n",
       "      <td>-0.305</td>\n",
       "      <td>-0.0186</td>\n",
       "      <td>-0.282</td>\n",
       "      <td>0.1070</td>\n",
       "      <td>0.000997</td>\n",
       "      <td>-0.316</td>\n",
       "      <td>-0.150</td>\n",
       "      <td>-0.374</td>\n",
       "      <td>-0.276</td>\n",
       "      <td>-0.135</td>\n",
       "    </tr>\n",
       "    <tr>\n",
       "      <th>2021-01-24</th>\n",
       "      <td>18468.142857</td>\n",
       "      <td>190991.142857</td>\n",
       "      <td>18574.571429</td>\n",
       "      <td>649241.571429</td>\n",
       "      <td>238743.428571</td>\n",
       "      <td>-0.251571</td>\n",
       "      <td>-0.294714</td>\n",
       "      <td>-0.105029</td>\n",
       "      <td>-0.143314</td>\n",
       "      <td>-0.1616</td>\n",
       "      <td>...</td>\n",
       "      <td>-0.262</td>\n",
       "      <td>-0.0350</td>\n",
       "      <td>-0.194</td>\n",
       "      <td>0.1220</td>\n",
       "      <td>0.037900</td>\n",
       "      <td>-0.324</td>\n",
       "      <td>-0.154</td>\n",
       "      <td>-0.376</td>\n",
       "      <td>-0.274</td>\n",
       "      <td>-0.135</td>\n",
       "    </tr>\n",
       "    <tr>\n",
       "      <th>2021-01-25</th>\n",
       "      <td>18490.285714</td>\n",
       "      <td>193765.285714</td>\n",
       "      <td>18644.142857</td>\n",
       "      <td>619666.142857</td>\n",
       "      <td>225237.857143</td>\n",
       "      <td>-0.222857</td>\n",
       "      <td>-0.264571</td>\n",
       "      <td>-0.095043</td>\n",
       "      <td>-0.120471</td>\n",
       "      <td>-0.1444</td>\n",
       "      <td>...</td>\n",
       "      <td>-0.240</td>\n",
       "      <td>0.0133</td>\n",
       "      <td>-0.163</td>\n",
       "      <td>0.1420</td>\n",
       "      <td>0.073100</td>\n",
       "      <td>-0.327</td>\n",
       "      <td>-0.150</td>\n",
       "      <td>-0.371</td>\n",
       "      <td>-0.259</td>\n",
       "      <td>-0.129</td>\n",
       "    </tr>\n",
       "    <tr>\n",
       "      <th>2021-01-26</th>\n",
       "      <td>18512.428571</td>\n",
       "      <td>196539.428571</td>\n",
       "      <td>18713.714286</td>\n",
       "      <td>590090.714286</td>\n",
       "      <td>211732.285714</td>\n",
       "      <td>-0.194143</td>\n",
       "      <td>-0.234429</td>\n",
       "      <td>-0.085057</td>\n",
       "      <td>-0.097629</td>\n",
       "      <td>-0.1272</td>\n",
       "      <td>...</td>\n",
       "      <td>-0.298</td>\n",
       "      <td>-0.0455</td>\n",
       "      <td>-0.238</td>\n",
       "      <td>0.0622</td>\n",
       "      <td>-0.023100</td>\n",
       "      <td>-0.341</td>\n",
       "      <td>-0.167</td>\n",
       "      <td>-0.379</td>\n",
       "      <td>-0.264</td>\n",
       "      <td>-0.134</td>\n",
       "    </tr>\n",
       "    <tr>\n",
       "      <th>2021-01-27</th>\n",
       "      <td>18534.571429</td>\n",
       "      <td>199313.571429</td>\n",
       "      <td>18783.285714</td>\n",
       "      <td>560515.285714</td>\n",
       "      <td>198226.714286</td>\n",
       "      <td>-0.165429</td>\n",
       "      <td>-0.204286</td>\n",
       "      <td>-0.075071</td>\n",
       "      <td>-0.074786</td>\n",
       "      <td>-0.1100</td>\n",
       "      <td>...</td>\n",
       "      <td>-0.282</td>\n",
       "      <td>-0.0118</td>\n",
       "      <td>-0.212</td>\n",
       "      <td>0.0821</td>\n",
       "      <td>-0.043400</td>\n",
       "      <td>-0.336</td>\n",
       "      <td>-0.159</td>\n",
       "      <td>-0.376</td>\n",
       "      <td>-0.263</td>\n",
       "      <td>-0.132</td>\n",
       "    </tr>\n",
       "  </tbody>\n",
       "</table>\n",
       "<p>5 rows × 34 columns</p>\n",
       "</div>"
      ],
      "text/plain": [
       "            initclaims_count_regular  contclaims_count_regular  \\\n",
       "2021-01-23              18446.000000             188217.000000   \n",
       "2021-01-24              18468.142857             190991.142857   \n",
       "2021-01-25              18490.285714             193765.285714   \n",
       "2021-01-26              18512.428571             196539.428571   \n",
       "2021-01-27              18534.571429             199313.571429   \n",
       "\n",
       "            initclaims_count_combined  contclaims_count_combined  \\\n",
       "2021-01-23               18505.000000              678817.000000   \n",
       "2021-01-24               18574.571429              649241.571429   \n",
       "2021-01-25               18644.142857              619666.142857   \n",
       "2021-01-26               18713.714286              590090.714286   \n",
       "2021-01-27               18783.285714              560515.285714   \n",
       "\n",
       "            contclaims_count_pua  bg_posts_ss60  bg_posts_ss70  bg_posts_ss30  \\\n",
       "2021-01-23         252249.000000      -0.280286      -0.324857      -0.115014   \n",
       "2021-01-24         238743.428571      -0.251571      -0.294714      -0.105029   \n",
       "2021-01-25         225237.857143      -0.222857      -0.264571      -0.095043   \n",
       "2021-01-26         211732.285714      -0.194143      -0.234429      -0.085057   \n",
       "2021-01-27         198226.714286      -0.165429      -0.204286      -0.075071   \n",
       "\n",
       "            bg_posts_ss55  bg_posts_ss65  ...  spend_acf  spend_hcs  \\\n",
       "2021-01-23      -0.166157        -0.1788  ...     -0.305    -0.0186   \n",
       "2021-01-24      -0.143314        -0.1616  ...     -0.262    -0.0350   \n",
       "2021-01-25      -0.120471        -0.1444  ...     -0.240     0.0133   \n",
       "2021-01-26      -0.097629        -0.1272  ...     -0.298    -0.0455   \n",
       "2021-01-27      -0.074786        -0.1100  ...     -0.282    -0.0118   \n",
       "\n",
       "            spend_aer  spend_apg  spend_grf  gps_retail_and_recreation  \\\n",
       "2021-01-23     -0.282     0.1070   0.000997                     -0.316   \n",
       "2021-01-24     -0.194     0.1220   0.037900                     -0.324   \n",
       "2021-01-25     -0.163     0.1420   0.073100                     -0.327   \n",
       "2021-01-26     -0.238     0.0622  -0.023100                     -0.341   \n",
       "2021-01-27     -0.212     0.0821  -0.043400                     -0.336   \n",
       "\n",
       "            gps_grocery_and_pharmacy  gps_transit_stations  gps_workplaces  \\\n",
       "2021-01-23                    -0.150                -0.374          -0.276   \n",
       "2021-01-24                    -0.154                -0.376          -0.274   \n",
       "2021-01-25                    -0.150                -0.371          -0.259   \n",
       "2021-01-26                    -0.167                -0.379          -0.264   \n",
       "2021-01-27                    -0.159                -0.376          -0.263   \n",
       "\n",
       "            gps_away_from_home  \n",
       "2021-01-23              -0.135  \n",
       "2021-01-24              -0.135  \n",
       "2021-01-25              -0.129  \n",
       "2021-01-26              -0.134  \n",
       "2021-01-27              -0.132  \n",
       "\n",
       "[5 rows x 34 columns]"
      ]
     },
     "execution_count": 2,
     "metadata": {},
     "output_type": "execute_result"
    }
   ],
   "source": [
    "df = result\n",
    "print(df.shape)\n",
    "df.tail()"
   ]
  },
  {
   "cell_type": "markdown",
   "metadata": {
    "id": "3qPrT3BJotdO"
   },
   "source": [
    "# The highly correlated features columns has been droppped; And the likely feature indicators retained\n"
   ]
  },
  {
   "cell_type": "code",
   "execution_count": 3,
   "metadata": {
    "colab": {
     "base_uri": "https://localhost:8080/"
    },
    "id": "1R96Fm-EGDE9",
    "outputId": "9babfa75-0487-45d2-8390-ced8bc833e5f"
   },
   "outputs": [
    {
     "name": "stdout",
     "output_type": "stream",
     "text": [
      "<class 'pandas.core.frame.DataFrame'>\n",
      "DatetimeIndex: 327 entries, 2020-03-07 to 2021-01-27\n",
      "Freq: D\n",
      "Data columns (total 34 columns):\n",
      " #   Column                     Non-Null Count  Dtype  \n",
      "---  ------                     --------------  -----  \n",
      " 0   initclaims_count_regular   327 non-null    float64\n",
      " 1   contclaims_count_regular   327 non-null    float64\n",
      " 2   initclaims_count_combined  327 non-null    float64\n",
      " 3   contclaims_count_combined  327 non-null    float64\n",
      " 4   contclaims_count_pua       327 non-null    float64\n",
      " 5   bg_posts_ss60              327 non-null    float64\n",
      " 6   bg_posts_ss70              327 non-null    float64\n",
      " 7   bg_posts_ss30              327 non-null    float64\n",
      " 8   bg_posts_ss55              327 non-null    float64\n",
      " 9   bg_posts_ss65              327 non-null    float64\n",
      " 10  case_count                 327 non-null    float64\n",
      " 11  death_count                327 non-null    float64\n",
      " 12  test_count                 327 non-null    float64\n",
      " 13  vaccine_count              327 non-null    float64\n",
      " 14  revenue_ss60               327 non-null    float64\n",
      " 15  revenue_ss70               327 non-null    float64\n",
      " 16  merchants_ss40             327 non-null    float64\n",
      " 17  merchants_ss65             327 non-null    float64\n",
      " 18  merchants_retail           327 non-null    float64\n",
      " 19  emp_combined               327 non-null    float64\n",
      " 20  emp_combined_ss40          327 non-null    float64\n",
      " 21  emp_combined_ss60          327 non-null    float64\n",
      " 22  emp_combined_ss70          327 non-null    float64\n",
      " 23  emp_combined_ss65          327 non-null    float64\n",
      " 24  spend_acf                  327 non-null    float64\n",
      " 25  spend_hcs                  327 non-null    float64\n",
      " 26  spend_aer                  327 non-null    float64\n",
      " 27  spend_apg                  327 non-null    float64\n",
      " 28  spend_grf                  327 non-null    float64\n",
      " 29  gps_retail_and_recreation  327 non-null    float64\n",
      " 30  gps_grocery_and_pharmacy   327 non-null    float64\n",
      " 31  gps_transit_stations       327 non-null    float64\n",
      " 32  gps_workplaces             327 non-null    float64\n",
      " 33  gps_away_from_home         327 non-null    float64\n",
      "dtypes: float64(34)\n",
      "memory usage: 89.4 KB\n"
     ]
    }
   ],
   "source": [
    "df.info()"
   ]
  },
  {
   "cell_type": "code",
   "execution_count": 4,
   "metadata": {
    "id": "_GnEP87rgYi2"
   },
   "outputs": [],
   "source": [
    "#target_names = ['contclaims_count_regular']\n",
    "target_names = list(df.columns)"
   ]
  },
  {
   "cell_type": "code",
   "execution_count": 5,
   "metadata": {
    "id": "rxUKPT18gYi3"
   },
   "outputs": [],
   "source": [
    "split_fraction = 0.7\n",
    "train_split = int(split_fraction * int(df.shape[0]))\n",
    "step = 1\n",
    "\n",
    "past = 20\n",
    "future = 1\n",
    "learning_rate = 0.001\n",
    "batch_size = 12\n",
    "\n",
    "sequence_length = int(past / step)"
   ]
  },
  {
   "cell_type": "code",
   "execution_count": 6,
   "metadata": {
    "colab": {
     "base_uri": "https://localhost:8080/",
     "height": 309
    },
    "id": "sIlOZvowgYi4",
    "outputId": "a8419060-ce6c-4c83-fb80-159baa74e618"
   },
   "outputs": [
    {
     "data": {
      "text/html": [
       "<div>\n",
       "<style scoped>\n",
       "    .dataframe tbody tr th:only-of-type {\n",
       "        vertical-align: middle;\n",
       "    }\n",
       "\n",
       "    .dataframe tbody tr th {\n",
       "        vertical-align: top;\n",
       "    }\n",
       "\n",
       "    .dataframe thead th {\n",
       "        text-align: right;\n",
       "    }\n",
       "</style>\n",
       "<table border=\"1\" class=\"dataframe\">\n",
       "  <thead>\n",
       "    <tr style=\"text-align: right;\">\n",
       "      <th></th>\n",
       "      <th>initclaims_count_regular</th>\n",
       "      <th>contclaims_count_regular</th>\n",
       "      <th>initclaims_count_combined</th>\n",
       "      <th>contclaims_count_combined</th>\n",
       "      <th>contclaims_count_pua</th>\n",
       "      <th>bg_posts_ss60</th>\n",
       "      <th>bg_posts_ss70</th>\n",
       "      <th>bg_posts_ss30</th>\n",
       "      <th>bg_posts_ss55</th>\n",
       "      <th>bg_posts_ss65</th>\n",
       "      <th>...</th>\n",
       "      <th>spend_acf</th>\n",
       "      <th>spend_hcs</th>\n",
       "      <th>spend_aer</th>\n",
       "      <th>spend_apg</th>\n",
       "      <th>spend_grf</th>\n",
       "      <th>gps_retail_and_recreation</th>\n",
       "      <th>gps_grocery_and_pharmacy</th>\n",
       "      <th>gps_transit_stations</th>\n",
       "      <th>gps_workplaces</th>\n",
       "      <th>gps_away_from_home</th>\n",
       "    </tr>\n",
       "  </thead>\n",
       "  <tbody>\n",
       "    <tr>\n",
       "      <th>2020-03-07</th>\n",
       "      <td>5150.000000</td>\n",
       "      <td>77661.0</td>\n",
       "      <td>5150.000000</td>\n",
       "      <td>77661.0</td>\n",
       "      <td>0.0</td>\n",
       "      <td>0.072643</td>\n",
       "      <td>0.0837</td>\n",
       "      <td>0.0618</td>\n",
       "      <td>0.056691</td>\n",
       "      <td>0.033943</td>\n",
       "      <td>...</td>\n",
       "      <td>-0.03040</td>\n",
       "      <td>-0.02080</td>\n",
       "      <td>-0.01440</td>\n",
       "      <td>-0.06010</td>\n",
       "      <td>0.0626</td>\n",
       "      <td>0.1070</td>\n",
       "      <td>0.0471</td>\n",
       "      <td>0.1070</td>\n",
       "      <td>0.0257</td>\n",
       "      <td>0.0156</td>\n",
       "    </tr>\n",
       "    <tr>\n",
       "      <th>2020-03-08</th>\n",
       "      <td>5176.857143</td>\n",
       "      <td>77389.0</td>\n",
       "      <td>5176.857143</td>\n",
       "      <td>77389.0</td>\n",
       "      <td>0.0</td>\n",
       "      <td>0.063086</td>\n",
       "      <td>0.0714</td>\n",
       "      <td>0.0439</td>\n",
       "      <td>0.048283</td>\n",
       "      <td>0.022986</td>\n",
       "      <td>...</td>\n",
       "      <td>-0.02830</td>\n",
       "      <td>0.00586</td>\n",
       "      <td>0.00590</td>\n",
       "      <td>-0.02870</td>\n",
       "      <td>0.0817</td>\n",
       "      <td>0.1070</td>\n",
       "      <td>0.0486</td>\n",
       "      <td>0.0943</td>\n",
       "      <td>0.0257</td>\n",
       "      <td>0.0156</td>\n",
       "    </tr>\n",
       "    <tr>\n",
       "      <th>2020-03-09</th>\n",
       "      <td>5203.714286</td>\n",
       "      <td>77117.0</td>\n",
       "      <td>5203.714286</td>\n",
       "      <td>77117.0</td>\n",
       "      <td>0.0</td>\n",
       "      <td>0.053529</td>\n",
       "      <td>0.0591</td>\n",
       "      <td>0.0260</td>\n",
       "      <td>0.039874</td>\n",
       "      <td>0.012029</td>\n",
       "      <td>...</td>\n",
       "      <td>-0.02430</td>\n",
       "      <td>-0.04010</td>\n",
       "      <td>-0.01700</td>\n",
       "      <td>-0.03070</td>\n",
       "      <td>0.1030</td>\n",
       "      <td>0.1030</td>\n",
       "      <td>0.0486</td>\n",
       "      <td>0.0914</td>\n",
       "      <td>0.0257</td>\n",
       "      <td>0.0139</td>\n",
       "    </tr>\n",
       "    <tr>\n",
       "      <th>2020-03-10</th>\n",
       "      <td>5230.571429</td>\n",
       "      <td>76845.0</td>\n",
       "      <td>5230.571429</td>\n",
       "      <td>76845.0</td>\n",
       "      <td>0.0</td>\n",
       "      <td>0.043971</td>\n",
       "      <td>0.0468</td>\n",
       "      <td>0.0081</td>\n",
       "      <td>0.031466</td>\n",
       "      <td>0.001071</td>\n",
       "      <td>...</td>\n",
       "      <td>-0.00913</td>\n",
       "      <td>0.18600</td>\n",
       "      <td>-0.00624</td>\n",
       "      <td>-0.00236</td>\n",
       "      <td>0.1480</td>\n",
       "      <td>0.1010</td>\n",
       "      <td>0.0457</td>\n",
       "      <td>0.0871</td>\n",
       "      <td>0.0229</td>\n",
       "      <td>0.0125</td>\n",
       "    </tr>\n",
       "    <tr>\n",
       "      <th>2020-03-11</th>\n",
       "      <td>5257.428571</td>\n",
       "      <td>76573.0</td>\n",
       "      <td>5257.428571</td>\n",
       "      <td>76573.0</td>\n",
       "      <td>0.0</td>\n",
       "      <td>0.034414</td>\n",
       "      <td>0.0345</td>\n",
       "      <td>-0.0098</td>\n",
       "      <td>0.023057</td>\n",
       "      <td>-0.009886</td>\n",
       "      <td>...</td>\n",
       "      <td>-0.01250</td>\n",
       "      <td>0.15600</td>\n",
       "      <td>-0.03670</td>\n",
       "      <td>-0.01600</td>\n",
       "      <td>0.2060</td>\n",
       "      <td>0.0957</td>\n",
       "      <td>0.0586</td>\n",
       "      <td>0.0800</td>\n",
       "      <td>0.0229</td>\n",
       "      <td>0.0109</td>\n",
       "    </tr>\n",
       "  </tbody>\n",
       "</table>\n",
       "<p>5 rows × 34 columns</p>\n",
       "</div>"
      ],
      "text/plain": [
       "            initclaims_count_regular  contclaims_count_regular  \\\n",
       "2020-03-07               5150.000000                   77661.0   \n",
       "2020-03-08               5176.857143                   77389.0   \n",
       "2020-03-09               5203.714286                   77117.0   \n",
       "2020-03-10               5230.571429                   76845.0   \n",
       "2020-03-11               5257.428571                   76573.0   \n",
       "\n",
       "            initclaims_count_combined  contclaims_count_combined  \\\n",
       "2020-03-07                5150.000000                    77661.0   \n",
       "2020-03-08                5176.857143                    77389.0   \n",
       "2020-03-09                5203.714286                    77117.0   \n",
       "2020-03-10                5230.571429                    76845.0   \n",
       "2020-03-11                5257.428571                    76573.0   \n",
       "\n",
       "            contclaims_count_pua  bg_posts_ss60  bg_posts_ss70  bg_posts_ss30  \\\n",
       "2020-03-07                   0.0       0.072643         0.0837         0.0618   \n",
       "2020-03-08                   0.0       0.063086         0.0714         0.0439   \n",
       "2020-03-09                   0.0       0.053529         0.0591         0.0260   \n",
       "2020-03-10                   0.0       0.043971         0.0468         0.0081   \n",
       "2020-03-11                   0.0       0.034414         0.0345        -0.0098   \n",
       "\n",
       "            bg_posts_ss55  bg_posts_ss65  ...  spend_acf  spend_hcs  \\\n",
       "2020-03-07       0.056691       0.033943  ...   -0.03040   -0.02080   \n",
       "2020-03-08       0.048283       0.022986  ...   -0.02830    0.00586   \n",
       "2020-03-09       0.039874       0.012029  ...   -0.02430   -0.04010   \n",
       "2020-03-10       0.031466       0.001071  ...   -0.00913    0.18600   \n",
       "2020-03-11       0.023057      -0.009886  ...   -0.01250    0.15600   \n",
       "\n",
       "            spend_aer  spend_apg  spend_grf  gps_retail_and_recreation  \\\n",
       "2020-03-07   -0.01440   -0.06010     0.0626                     0.1070   \n",
       "2020-03-08    0.00590   -0.02870     0.0817                     0.1070   \n",
       "2020-03-09   -0.01700   -0.03070     0.1030                     0.1030   \n",
       "2020-03-10   -0.00624   -0.00236     0.1480                     0.1010   \n",
       "2020-03-11   -0.03670   -0.01600     0.2060                     0.0957   \n",
       "\n",
       "            gps_grocery_and_pharmacy  gps_transit_stations  gps_workplaces  \\\n",
       "2020-03-07                    0.0471                0.1070          0.0257   \n",
       "2020-03-08                    0.0486                0.0943          0.0257   \n",
       "2020-03-09                    0.0486                0.0914          0.0257   \n",
       "2020-03-10                    0.0457                0.0871          0.0229   \n",
       "2020-03-11                    0.0586                0.0800          0.0229   \n",
       "\n",
       "            gps_away_from_home  \n",
       "2020-03-07              0.0156  \n",
       "2020-03-08              0.0156  \n",
       "2020-03-09              0.0139  \n",
       "2020-03-10              0.0125  \n",
       "2020-03-11              0.0109  \n",
       "\n",
       "[5 rows x 34 columns]"
      ]
     },
     "execution_count": 6,
     "metadata": {},
     "output_type": "execute_result"
    }
   ],
   "source": [
    "titles = list(df.columns)\n",
    "features = df[titles]\n",
    "features.head()"
   ]
  },
  {
   "cell_type": "code",
   "execution_count": 7,
   "metadata": {
    "colab": {
     "base_uri": "https://localhost:8080/"
    },
    "id": "hVi3lVV4gYi5",
    "outputId": "b112fbac-9f09-4662-8fc9-adf96acc8b2e"
   },
   "outputs": [
    {
     "data": {
      "text/plain": [
       "(306, 306, 327)"
      ]
     },
     "execution_count": 7,
     "metadata": {},
     "output_type": "execute_result"
    }
   ],
   "source": [
    "start = past + future\n",
    "end = start + train_split\n",
    "\n",
    "x_data = features.values[0: -start]\n",
    "y_data = features[target_names].values[start:]\n",
    "\n",
    "x_train = x_data[:train_split]\n",
    "x_val = x_data[train_split:]\n",
    "\n",
    "y_train = y_data[:train_split]\n",
    "y_val = y_data[train_split:]\n",
    "\n",
    "x_scaler = MinMaxScaler()\n",
    "x_train_scaled = x_scaler.fit_transform(x_train)\n",
    "x_val_scaled = x_scaler.transform(x_val)\n",
    "\n",
    "y_scaler = MinMaxScaler()\n",
    "y_train_scaled = y_scaler.fit_transform(y_train)\n",
    "y_val_scaled = y_scaler.transform(y_val)\n",
    "\n",
    "len(x_train) + len(x_val), len(y_train) + len(y_val), len(features)"
   ]
  },
  {
   "cell_type": "code",
   "execution_count": 2,
   "metadata": {
    "id": "xQ2OngcugYi6"
   },
   "outputs": [],
   "source": [
    "#dataset_train = keras.preprocessing.timeseries_dataset_from_array(\n",
    "    x_train_scaled,\n",
    "    y_train_scaled,\n",
    "    sequence_length=sequence_length,\n",
    "    sampling_rate=step,\n",
    "    batch_size=batch_size,\n",
    ")"
   ]
  },
  {
   "cell_type": "code",
   "execution_count": 12,
   "metadata": {
    "id": "9z1-c3C6gYi7"
   },
   "outputs": [],
   "source": [
    "dataset_val = keras.preprocessing.timeseries_dataset_from_array(\n",
    "    x_val_scaled,\n",
    "    y_val_scaled,\n",
    "    sequence_length=sequence_length,\n",
    "    sampling_rate=step,\n",
    "    batch_size=batch_size,\n",
    ")"
   ]
  },
  {
   "cell_type": "code",
   "execution_count": 13,
   "metadata": {
    "colab": {
     "base_uri": "https://localhost:8080/"
    },
    "id": "S67GkKXlgYi7",
    "outputId": "57cb6b29-8ba2-4c62-fa07-9cec4bce8982"
   },
   "outputs": [
    {
     "name": "stdout",
     "output_type": "stream",
     "text": [
      "Input shape: (12, 20, 19)\n",
      "Target shape: (12, 19)\n",
      "dataset val\n",
      "x shape: (12, 20, 19)\n",
      "y shape: (12, 19)\n",
      "x shape: (12, 20, 19)\n",
      "y shape: (12, 19)\n",
      "x shape: (12, 20, 19)\n",
      "y shape: (12, 19)\n",
      "x shape: (12, 20, 19)\n",
      "y shape: (12, 19)\n",
      "x shape: (11, 20, 19)\n",
      "y shape: (11, 19)\n",
      "length of x_val: 78\n",
      "length of validation data: 5\n",
      "number of batches: 5\n"
     ]
    }
   ],
   "source": [
    "for batch in dataset_train.take(1):\n",
    "    inputs, targets = batch\n",
    "print(\"Input shape:\", inputs.numpy().shape)\n",
    "print(\"Target shape:\", targets.numpy().shape)\n",
    "\n",
    "print('dataset val')\n",
    "i = 0\n",
    "for j in dataset_val:\n",
    "    x, y = j\n",
    "    print('x shape:', x.shape)\n",
    "    print('y shape:', y.shape)\n",
    "    i = i + 1\n",
    "\n",
    "print(f'length of x_val: {len(x_val)}')\n",
    "print(f'length of validation data: {len(dataset_val)}')\n",
    "print(f'number of batches: {i}')"
   ]
  },
  {
   "cell_type": "markdown",
   "metadata": {
    "id": "KDpsns7pkxvC"
   },
   "source": [
    "# Tuning some hyperparameter and the model layer with some function like relu, sigmoid, tanh, ELUs and softmax.\n",
    "\n",
    "**From testing experience here and literature research, combination of sigmoid and adam seems best.**"
   ]
  },
  {
   "cell_type": "code",
   "execution_count": 14,
   "metadata": {
    "colab": {
     "base_uri": "https://localhost:8080/"
    },
    "id": "bWAppnsegYi8",
    "outputId": "cce8c240-00ce-4f5d-b1ba-beb051cec4ac"
   },
   "outputs": [
    {
     "name": "stdout",
     "output_type": "stream",
     "text": [
      "Model: \"sequential\"\n",
      "_________________________________________________________________\n",
      "Layer (type)                 Output Shape              Param #   \n",
      "=================================================================\n",
      "lstm (LSTM)                  (None, 128)               75776     \n",
      "_________________________________________________________________\n",
      "dense (Dense)                (None, 19)                2451      \n",
      "=================================================================\n",
      "Total params: 78,227\n",
      "Trainable params: 78,227\n",
      "Non-trainable params: 0\n",
      "_________________________________________________________________\n"
     ]
    }
   ],
   "source": [
    "model = tf.keras.Sequential([\n",
    "    keras.layers.Input(shape=(inputs.shape[1], inputs.shape[2])),\n",
    "    keras.layers.LSTM(128, activation='tanh'),\n",
    "    keras.layers.Dense(len(target_names))\n",
    "])\n",
    "model.compile(optimizer=keras.optimizers.Adam(learning_rate=learning_rate), loss=\"mse\")\n",
    "model.summary()"
   ]
  },
  {
   "cell_type": "code",
   "execution_count": 15,
   "metadata": {
    "colab": {
     "base_uri": "https://localhost:8080/"
    },
    "id": "E1ngSu0egYi9",
    "outputId": "dc720575-0fb3-40fb-8a80-2e675de73694"
   },
   "outputs": [
    {
     "name": "stdout",
     "output_type": "stream",
     "text": [
      "Epoch 1/20\n",
      "18/18 [==============================] - 4s 89ms/step - loss: 0.1360 - val_loss: 0.1825\n",
      "\n",
      "Epoch 00001: val_loss improved from inf to 0.18254, saving model to covid_model_checkpoint.h5\n",
      "Epoch 2/20\n",
      "18/18 [==============================] - 0s 24ms/step - loss: 0.1029 - val_loss: 0.2221\n",
      "\n",
      "Epoch 00002: val_loss did not improve from 0.18254\n",
      "Epoch 3/20\n",
      "18/18 [==============================] - 0s 25ms/step - loss: 0.0440 - val_loss: 0.1862\n",
      "\n",
      "Epoch 00003: val_loss did not improve from 0.18254\n",
      "Epoch 4/20\n",
      "18/18 [==============================] - 0s 26ms/step - loss: 0.0332 - val_loss: 0.1789\n",
      "\n",
      "Epoch 00004: val_loss improved from 0.18254 to 0.17892, saving model to covid_model_checkpoint.h5\n",
      "Epoch 5/20\n",
      "18/18 [==============================] - 1s 29ms/step - loss: 0.0256 - val_loss: 0.1734\n",
      "\n",
      "Epoch 00005: val_loss improved from 0.17892 to 0.17336, saving model to covid_model_checkpoint.h5\n",
      "Epoch 6/20\n",
      "18/18 [==============================] - 0s 27ms/step - loss: 0.0176 - val_loss: 0.1625\n",
      "\n",
      "Epoch 00006: val_loss improved from 0.17336 to 0.16246, saving model to covid_model_checkpoint.h5\n",
      "Epoch 7/20\n",
      "18/18 [==============================] - 0s 27ms/step - loss: 0.0162 - val_loss: 0.1486\n",
      "\n",
      "Epoch 00007: val_loss improved from 0.16246 to 0.14859, saving model to covid_model_checkpoint.h5\n",
      "Epoch 8/20\n",
      "18/18 [==============================] - 1s 29ms/step - loss: 0.0126 - val_loss: 0.1451\n",
      "\n",
      "Epoch 00008: val_loss improved from 0.14859 to 0.14512, saving model to covid_model_checkpoint.h5\n",
      "Epoch 9/20\n",
      "18/18 [==============================] - 0s 26ms/step - loss: 0.0108 - val_loss: 0.1372\n",
      "\n",
      "Epoch 00009: val_loss improved from 0.14512 to 0.13718, saving model to covid_model_checkpoint.h5\n",
      "Epoch 10/20\n",
      "18/18 [==============================] - 0s 26ms/step - loss: 0.0106 - val_loss: 0.1287\n",
      "\n",
      "Epoch 00010: val_loss improved from 0.13718 to 0.12871, saving model to covid_model_checkpoint.h5\n",
      "Epoch 11/20\n",
      "18/18 [==============================] - 0s 27ms/step - loss: 0.0094 - val_loss: 0.1233\n",
      "\n",
      "Epoch 00011: val_loss improved from 0.12871 to 0.12331, saving model to covid_model_checkpoint.h5\n",
      "Epoch 12/20\n",
      "18/18 [==============================] - 0s 26ms/step - loss: 0.0087 - val_loss: 0.1181\n",
      "\n",
      "Epoch 00012: val_loss improved from 0.12331 to 0.11809, saving model to covid_model_checkpoint.h5\n",
      "Epoch 13/20\n",
      "18/18 [==============================] - 0s 27ms/step - loss: 0.0085 - val_loss: 0.1113\n",
      "\n",
      "Epoch 00013: val_loss improved from 0.11809 to 0.11134, saving model to covid_model_checkpoint.h5\n",
      "Epoch 14/20\n",
      "18/18 [==============================] - 0s 26ms/step - loss: 0.0079 - val_loss: 0.1120\n",
      "\n",
      "Epoch 00014: val_loss did not improve from 0.11134\n",
      "Epoch 15/20\n",
      "18/18 [==============================] - 0s 26ms/step - loss: 0.0076 - val_loss: 0.1131\n",
      "\n",
      "Epoch 00015: val_loss did not improve from 0.11134\n",
      "Epoch 16/20\n",
      "18/18 [==============================] - 0s 27ms/step - loss: 0.0072 - val_loss: 0.1133\n",
      "\n",
      "Epoch 00016: val_loss did not improve from 0.11134\n",
      "Epoch 17/20\n",
      "18/18 [==============================] - 0s 27ms/step - loss: 0.0071 - val_loss: 0.1158\n",
      "\n",
      "Epoch 00017: val_loss did not improve from 0.11134\n",
      "Epoch 18/20\n",
      "18/18 [==============================] - 0s 28ms/step - loss: 0.0069 - val_loss: 0.1165\n",
      "\n",
      "Epoch 00018: val_loss did not improve from 0.11134\n"
     ]
    }
   ],
   "source": [
    "\n",
    "%load_ext tensorboard\n",
    "import os\n",
    "import shutil\n",
    "from datetime import datetime\n",
    "\n",
    "path_checkpoint = \"covid_model_checkpoint.h5\"\n",
    "es_callback = keras.callbacks.EarlyStopping(monitor=\"val_loss\", min_delta=0, patience=5)\n",
    "\n",
    "epochs = 20\n",
    "\n",
    "modelckpt_callback = keras.callbacks.ModelCheckpoint(\n",
    "    monitor=\"val_loss\",\n",
    "    filepath=path_checkpoint,\n",
    "    verbose=1,\n",
    "    save_weights_only=True,\n",
    "    save_best_only=True,\n",
    ")\n",
    "\n",
    "if os.path.exists('./logs'):\n",
    "    shutil.rmtree('./logs/')\n",
    "log_dir = \"logs/fit/\" + datetime.now().strftime(\"%Y%m%d-%H%M%S\")\n",
    "tensorboard_callback = tf.keras.callbacks.TensorBoard(log_dir=log_dir, histogram_freq=1)\n",
    "\n",
    "history = model.fit(\n",
    "    dataset_train,\n",
    "    epochs=epochs,\n",
    "    validation_data=dataset_val,\n",
    "    callbacks=[es_callback, modelckpt_callback, tensorboard_callback],\n",
    ")"
   ]
  },
  {
   "cell_type": "markdown",
   "metadata": {
    "id": "JYct3d5oxFGM"
   },
   "source": [
    "## Visualization of the training and validation loss"
   ]
  },
  {
   "cell_type": "code",
   "execution_count": 16,
   "metadata": {
    "colab": {
     "base_uri": "https://localhost:8080/",
     "height": 294
    },
    "id": "54gLN5YkgYi-",
    "outputId": "ef59f006-b9c0-4e0e-b9c8-5c53e2e9634a"
   },
   "outputs": [
    {
     "data": {
      "image/png": "[encoded data removed]",
      "text/plain": [
       "<Figure size 432x288 with 1 Axes>"
      ]
     },
     "metadata": {
      "needs_background": "light",
      "tags": []
     },
     "output_type": "display_data"
    }
   ],
   "source": [
    "# defining a function to visualise the training and validation loss\n",
    "def visualising_loss(history, title):\n",
    "  loss = history.history['loss']\n",
    "  val_loss = history.history['val_loss']\n",
    "  epochs = range(len(loss))\n",
    "  plt.figure()\n",
    "  plt.plot(epochs, loss, 'blue', label = 'Training loss')\n",
    "  plt.plot(epochs, val_loss, 'green', label = 'Validation loss')\n",
    "  plt.title(title)\n",
    "  plt.xlabel('Epochs')\n",
    "  plt.ylabel('Loss')\n",
    "  plt.legend()\n",
    "  plt.show()\n",
    "\n",
    "visualising_loss(history, 'Training and Validation Loss')"
   ]
  },
  {
   "cell_type": "code",
   "execution_count": 17,
   "metadata": {
    "colab": {
     "base_uri": "https://localhost:8080/"
    },
    "id": "3eiD1PCBgYi-",
    "outputId": "d9400f58-404f-4fae-d08c-e5d84d62a2c8"
   },
   "outputs": [
    {
     "name": "stdout",
     "output_type": "stream",
     "text": [
      "1/1 [==============================] - 0s 458ms/step - loss: 0.1821\n"
     ]
    }
   ],
   "source": [
    "result = model.evaluate(x=np.expand_dims(x_val_scaled[-past:], axis=0),\n",
    "                        y=np.expand_dims(y_val_scaled[-past:], axis=0))"
   ]
  },
  {
   "cell_type": "code",
   "execution_count": 18,
   "metadata": {
    "id": "rLmv-9WUgYi_"
   },
   "outputs": [],
   "source": [
    "def show_plot(plot_data, delta, title):\n",
    "    labels = [\"History\", \"True Future\", \"Model Prediction\"]\n",
    "    marker = [\".-\", \"rx\", \"go\"]\n",
    "    time_steps = list(range(-(plot_data[0].shape[0]), 0))\n",
    "    if delta:\n",
    "        future = delta\n",
    "    else:\n",
    "        future = 0\n",
    "\n",
    "    plt.title(title)\n",
    "    for i, val in enumerate(plot_data):\n",
    "        if i:\n",
    "            plt.plot(future, plot_data[i], marker[i], markersize=10, label=labels[i])\n",
    "        else:\n",
    "            plt.plot(time_steps, plot_data[i].flatten(), marker[i], label=labels[i])\n",
    "    plt.legend()\n",
    "    plt.xlim([time_steps[0], (future + 2) * 2])\n",
    "    plt.xlabel(\"Time-Step\")\n",
    "    plt.show()\n",
    "    return"
   ]
  },
  {
   "cell_type": "code",
   "execution_count": 19,
   "metadata": {
    "colab": {
     "base_uri": "https://localhost:8080/",
     "height": 746
    },
    "id": "chf4SDOcgYi_",
    "outputId": "3e01db57-f588-44fd-b3b7-9bf6d503cd7b"
   },
   "outputs": [
    {
     "name": "stdout",
     "output_type": "stream",
     "text": [
      "Prediction: [ 3.97448120e+03  1.83751156e+05  4.76201688e+05 -3.45349014e-01\n",
      " -1.58409625e-01 -1.24164984e-01  1.69240359e+05  7.67547363e+03\n",
      " -1.12897076e-01 -2.02173591e-01 -7.59994462e-02 -1.24221154e-01\n",
      " -2.14251935e-01 -4.05232370e-01 -6.46768436e-02  8.58193040e-02\n",
      " -9.20003876e-02 -2.59719789e-01 -2.24556297e-01]\n"
     ]
    },
    {
     "data": {
      "image/png": "[encoded data removed]",
      "text/plain": [
       "<Figure size 432x288 with 1 Axes>"
      ]
     },
     "metadata": {
      "needs_background": "light",
      "tags": []
     },
     "output_type": "display_data"
    },
    {
     "name": "stdout",
     "output_type": "stream",
     "text": [
      "Prediction: [ 6.17927588e+03  1.70809203e+05  5.32477125e+05 -4.17153209e-01\n",
      " -1.63474634e-01 -1.90405890e-01  1.92004062e+05  7.90922070e+03\n",
      " -9.30621624e-02 -2.50531524e-01 -7.74148554e-02 -9.97154191e-02\n",
      " -2.35255733e-01 -4.31745410e-01 -1.00687392e-01  1.20403275e-01\n",
      " -1.28583282e-01 -3.25329840e-01 -2.24728733e-01]\n"
     ]
    },
    {
     "data": {
      "image/png": "[encoded data removed]",
      "text/plain": [
       "<Figure size 432x288 with 1 Axes>"
      ]
     },
     "metadata": {
      "needs_background": "light",
      "tags": []
     },
     "output_type": "display_data"
    }
   ],
   "source": [
    "for x, y in dataset_val.take(2):\n",
    "    #print('Y:', y_scaler.inverse_transform(y)[0])\n",
    "    prediction = model.predict(x)\n",
    "    #print('pred shape:', prediction.shape)\n",
    "    print('Prediction:', y_scaler.inverse_transform(prediction)[0])\n",
    "    show_plot(\n",
    "        [x[0][:, 1].numpy(), y[0][3].numpy(), prediction[0][3]],\n",
    "        2,\n",
    "        \"Single Step Prediction\",\n",
    "    )"
   ]
  },
  {
   "cell_type": "code",
   "execution_count": 21,
   "metadata": {
    "colab": {
     "base_uri": "https://localhost:8080/"
    },
    "id": "MT2e1TGAxj6v",
    "outputId": "fa27ead5-9b4f-4391-f1b8-7afcb75c08d5"
   },
   "outputs": [
    {
     "name": "stdout",
     "output_type": "stream",
     "text": [
      "pre-covid UI claims 72103\n",
      "last date in the dataset: 2021-01-27\n",
      "UI claims on the last day 2021-01-27: 2021-01-27    199313.571429\n",
      "Name: contclaims_count_regular, dtype: float64\n",
      "predicted UI claims -0.2868276834487915 is less than or equal to pre-covid level 72103 after 1 days\n",
      "Done...\n"
     ]
    }
   ],
   "source": [
    "DAYS_TO_PREDICT = 30\n",
    "\n",
    "features_pred = df[-20:].to_numpy()\n",
    "last_df = df[-1:]\n",
    "pre_covid_ui_claims = 72103\n",
    "print(f'pre-covid UI claims {pre_covid_ui_claims}')\n",
    "num_of_days = 0\n",
    "last_date = df[-1:].index.date[0]\n",
    "print('last date in the dataset:', last_date)\n",
    "print(f'UI claims on the last day {last_date}: {df[-1:][\"contclaims_count_regular\"]}')\n",
    "preds = []\n",
    "for i in range(DAYS_TO_PREDICT):\n",
    "    x_pred_scaled = x_scaler.transform(features_pred)\n",
    "    dataset_pred = keras.preprocessing.timeseries_dataset_from_array(\n",
    "        x_pred_scaled,\n",
    "        None,\n",
    "        sequence_length=sequence_length,\n",
    "        sampling_rate=step,\n",
    "        batch_size=batch_size,\n",
    "    )\n",
    "\n",
    "    for batch in dataset_pred.take(1):\n",
    "        x = batch\n",
    "    pred = model.predict(x)\n",
    "    preds.append(pred[0])\n",
    "    num_of_days = num_of_days + 1\n",
    "    pred_ui_claims = y_scaler.inverse_transform(pred)[0][3]\n",
    "    if (pred_ui_claims <= pre_covid_ui_claims):\n",
    "        print(f'predicted UI claims {pred_ui_claims} is less than or equal to pre-covid level {pre_covid_ui_claims} after {num_of_days} days')\n",
    "        break\n",
    "    else:\n",
    "        print(f'predicted value {pred_ui_claims} not meeting the threshold after {num_of_days} days')\n",
    "    pred_actual = y_scaler.inverse_transform(pred)\n",
    "    features_pred  = np.vstack([features_pred, pred_actual])\n",
    "    features_pred = features_pred[1:]\n",
    "\n",
    "print('Done...')"
   ]
  },
  {
   "cell_type": "code",
   "execution_count": null,
   "metadata": {
    "colab": {
     "base_uri": "https://localhost:8080/",
     "height": 338
    },
    "id": "tlOdrq1Exrx8",
    "outputId": "6a041ddb-8542-4972-a75d-322fe1b46410"
   },
   "outputs": [],
   "source": [
    "predicted_ui_claims = y_scaler.inverse_transform(preds)\n",
    "\n",
    "pred_arr = []\n",
    "for i in range(len(predicted_ui_claims)):\n",
    "    pred_arr.append(predicted_ui_claims[i][3])\n",
    "    \n",
    "predicted_index = pd.date_range(\n",
    "  start=df.index[-1],\n",
    "  periods=DAYS_TO_PREDICT + 1,\n",
    "  closed='right'\n",
    ")\n",
    "\n",
    "predicted_ui = pd.Series(\n",
    "  data=pred_arr,\n",
    "  index=predicted_index\n",
    ")"
   ]
  },
  {
   "cell_type": "code",
   "execution_count": null,
   "metadata": {
    "colab": {
     "base_uri": "https://localhost:8080/",
     "height": 217
    },
    "id": "QzbeC0vmxuut",
    "outputId": "2a8829bf-2d15-47c3-c7d8-647de3f3af9f"
   },
   "outputs": [],
   "source": [
    "selected_cols=['contclaims_count_regular']\n",
    "ui_claims_feb = prepare_data('UI Claims - State - Weekly.csv', day='day_endofweek', start_date='2021-01-30', end_date='2021-02-27', selected_cols=selected_cols, interpolate=True)\n",
    "ui_claims_feb = ui_claims_feb[1:]\n",
    "ui_claims_feb.head()"
   ]
  },
  {
   "cell_type": "code",
   "execution_count": null,
   "metadata": {
    "id": "c3gkKg4yxvsd"
   },
   "outputs": [],
   "source": [
    "predicted_ui.head()"
   ]
  },
  {
   "cell_type": "code",
   "execution_count": null,
   "metadata": {
    "colab": {
     "base_uri": "https://localhost:8080/",
     "height": 994
    },
    "id": "dGkCNqM7xyfs",
    "outputId": "d9712da8-bf7f-422e-c98a-9e55e721a368"
   },
   "outputs": [],
   "source": [
    "import matplotlib.dates as mdates\n",
    "\n",
    "plt.figure(figsize=(8,5))\n",
    "plt.gca().xaxis.set_major_formatter(mdates.DateFormatter('%Y-%m-%d'))\n",
    "plt.gcf().autofmt_xdate()\n",
    "\n",
    "plt.plot(ui_claims_feb, label='Feb actual UI Claims')\n",
    "plt.plot(predicted_ui, label='Feb predicted UI Claims')\n",
    "plt.legend()"
   ]
  },
  {
   "cell_type": "code",
   "execution_count": null,
   "metadata": {
    "id": "4W5mD--xGJ77"
   },
   "outputs": [],
   "source": []
  }
 ],
 "metadata": {
  "colab": {
   "collapsed_sections": [],
   "name": "Covid_Model_Ratawfiq16042021.ipynb",
   "provenance": []
  },
  "kernelspec": {
   "display_name": "Python 3",
   "language": "python",
   "name": "python3"
  },
  "language_info": {
   "codemirror_mode": {
    "name": "ipython",
    "version": 3
   },
   "file_extension": ".py",
   "mimetype": "text/x-python",
   "name": "python",
   "nbconvert_exporter": "python",
   "pygments_lexer": "ipython3",
   "version": "3.7.7"
  }
 },
 "nbformat": 4,
 "nbformat_minor": 1
}
